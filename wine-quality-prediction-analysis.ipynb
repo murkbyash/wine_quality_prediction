{
 "cells": [
  {
   "cell_type": "code",
   "execution_count": 1,
   "id": "destroyed-investor",
   "metadata": {
    "_cell_guid": "b1076dfc-b9ad-4769-8c92-a6c4dae69d19",
    "_uuid": "8f2839f25d086af736a60e9eeb907d3b93b6e0e5",
    "execution": {
     "iopub.execute_input": "2021-05-01T14:42:48.262134Z",
     "iopub.status.busy": "2021-05-01T14:42:48.260623Z",
     "iopub.status.idle": "2021-05-01T14:42:49.278208Z",
     "shell.execute_reply": "2021-05-01T14:42:49.279011Z"
    },
    "papermill": {
     "duration": 1.053242,
     "end_time": "2021-05-01T14:42:49.279294",
     "exception": false,
     "start_time": "2021-05-01T14:42:48.226052",
     "status": "completed"
    },
    "tags": []
   },
   "outputs": [
    {
     "name": "stdout",
     "output_type": "stream",
     "text": [
      "/kaggle/input/wine-quality/winequalityN.csv\n"
     ]
    }
   ],
   "source": [
    "# This Python 3 environment comes with many helpful analytics libraries installed\n",
    "# It is defined by the kaggle/python Docker image: https://github.com/kaggle/docker-python\n",
    "# For example, here's several helpful packages to load\n",
    "\n",
    "import numpy as np # linear algebra\n",
    "import pandas as pd # data processing, CSV file I/O (e.g. pd.read_csv)\n",
    "import matplotlib.pyplot as plt\n",
    "%matplotlib inline\n",
    "import seaborn as sns\n",
    "import warnings\n",
    "warnings.filterwarnings('ignore')\n",
    "\n",
    "# Input data files are available in the read-only \"../input/\" directory\n",
    "# For example, running this (by clicking run or pressing Shift+Enter) will list all files under the input directory\n",
    "\n",
    "import os\n",
    "for dirname, _, filenames in os.walk('/kaggle/input'):\n",
    "    for filename in filenames:\n",
    "        print(os.path.join(dirname, filename))\n",
    "\n",
    "# You can write up to 20GB to the current directory (/kaggle/working/) that gets preserved as output when you create a version using \"Save & Run All\" \n",
    "# You can also write temporary files to /kaggle/temp/, but they won't be saved outside of the current session"
   ]
  },
  {
   "cell_type": "code",
   "execution_count": 2,
   "id": "unlike-humor",
   "metadata": {
    "execution": {
     "iopub.execute_input": "2021-05-01T14:42:49.335593Z",
     "iopub.status.busy": "2021-05-01T14:42:49.334941Z",
     "iopub.status.idle": "2021-05-01T14:42:49.396776Z",
     "shell.execute_reply": "2021-05-01T14:42:49.396110Z"
    },
    "papermill": {
     "duration": 0.091698,
     "end_time": "2021-05-01T14:42:49.396941",
     "exception": false,
     "start_time": "2021-05-01T14:42:49.305243",
     "status": "completed"
    },
    "tags": []
   },
   "outputs": [
    {
     "data": {
      "text/html": [
       "<div>\n",
       "<style scoped>\n",
       "    .dataframe tbody tr th:only-of-type {\n",
       "        vertical-align: middle;\n",
       "    }\n",
       "\n",
       "    .dataframe tbody tr th {\n",
       "        vertical-align: top;\n",
       "    }\n",
       "\n",
       "    .dataframe thead th {\n",
       "        text-align: right;\n",
       "    }\n",
       "</style>\n",
       "<table border=\"1\" class=\"dataframe\">\n",
       "  <thead>\n",
       "    <tr style=\"text-align: right;\">\n",
       "      <th></th>\n",
       "      <th>type</th>\n",
       "      <th>fixed acidity</th>\n",
       "      <th>volatile acidity</th>\n",
       "      <th>citric acid</th>\n",
       "      <th>residual sugar</th>\n",
       "      <th>chlorides</th>\n",
       "      <th>free sulfur dioxide</th>\n",
       "      <th>total sulfur dioxide</th>\n",
       "      <th>density</th>\n",
       "      <th>pH</th>\n",
       "      <th>sulphates</th>\n",
       "      <th>alcohol</th>\n",
       "      <th>quality</th>\n",
       "    </tr>\n",
       "  </thead>\n",
       "  <tbody>\n",
       "    <tr>\n",
       "      <th>0</th>\n",
       "      <td>white</td>\n",
       "      <td>7.0</td>\n",
       "      <td>0.27</td>\n",
       "      <td>0.36</td>\n",
       "      <td>20.7</td>\n",
       "      <td>0.045</td>\n",
       "      <td>45.0</td>\n",
       "      <td>170.0</td>\n",
       "      <td>1.0010</td>\n",
       "      <td>3.00</td>\n",
       "      <td>0.45</td>\n",
       "      <td>8.8</td>\n",
       "      <td>6</td>\n",
       "    </tr>\n",
       "    <tr>\n",
       "      <th>1</th>\n",
       "      <td>white</td>\n",
       "      <td>6.3</td>\n",
       "      <td>0.30</td>\n",
       "      <td>0.34</td>\n",
       "      <td>1.6</td>\n",
       "      <td>0.049</td>\n",
       "      <td>14.0</td>\n",
       "      <td>132.0</td>\n",
       "      <td>0.9940</td>\n",
       "      <td>3.30</td>\n",
       "      <td>0.49</td>\n",
       "      <td>9.5</td>\n",
       "      <td>6</td>\n",
       "    </tr>\n",
       "    <tr>\n",
       "      <th>2</th>\n",
       "      <td>white</td>\n",
       "      <td>8.1</td>\n",
       "      <td>0.28</td>\n",
       "      <td>0.40</td>\n",
       "      <td>6.9</td>\n",
       "      <td>0.050</td>\n",
       "      <td>30.0</td>\n",
       "      <td>97.0</td>\n",
       "      <td>0.9951</td>\n",
       "      <td>3.26</td>\n",
       "      <td>0.44</td>\n",
       "      <td>10.1</td>\n",
       "      <td>6</td>\n",
       "    </tr>\n",
       "    <tr>\n",
       "      <th>3</th>\n",
       "      <td>white</td>\n",
       "      <td>7.2</td>\n",
       "      <td>0.23</td>\n",
       "      <td>0.32</td>\n",
       "      <td>8.5</td>\n",
       "      <td>0.058</td>\n",
       "      <td>47.0</td>\n",
       "      <td>186.0</td>\n",
       "      <td>0.9956</td>\n",
       "      <td>3.19</td>\n",
       "      <td>0.40</td>\n",
       "      <td>9.9</td>\n",
       "      <td>6</td>\n",
       "    </tr>\n",
       "    <tr>\n",
       "      <th>4</th>\n",
       "      <td>white</td>\n",
       "      <td>7.2</td>\n",
       "      <td>0.23</td>\n",
       "      <td>0.32</td>\n",
       "      <td>8.5</td>\n",
       "      <td>0.058</td>\n",
       "      <td>47.0</td>\n",
       "      <td>186.0</td>\n",
       "      <td>0.9956</td>\n",
       "      <td>3.19</td>\n",
       "      <td>0.40</td>\n",
       "      <td>9.9</td>\n",
       "      <td>6</td>\n",
       "    </tr>\n",
       "  </tbody>\n",
       "</table>\n",
       "</div>"
      ],
      "text/plain": [
       "    type  fixed acidity  volatile acidity  citric acid  residual sugar  \\\n",
       "0  white            7.0              0.27         0.36            20.7   \n",
       "1  white            6.3              0.30         0.34             1.6   \n",
       "2  white            8.1              0.28         0.40             6.9   \n",
       "3  white            7.2              0.23         0.32             8.5   \n",
       "4  white            7.2              0.23         0.32             8.5   \n",
       "\n",
       "   chlorides  free sulfur dioxide  total sulfur dioxide  density    pH  \\\n",
       "0      0.045                 45.0                 170.0   1.0010  3.00   \n",
       "1      0.049                 14.0                 132.0   0.9940  3.30   \n",
       "2      0.050                 30.0                  97.0   0.9951  3.26   \n",
       "3      0.058                 47.0                 186.0   0.9956  3.19   \n",
       "4      0.058                 47.0                 186.0   0.9956  3.19   \n",
       "\n",
       "   sulphates  alcohol  quality  \n",
       "0       0.45      8.8        6  \n",
       "1       0.49      9.5        6  \n",
       "2       0.44     10.1        6  \n",
       "3       0.40      9.9        6  \n",
       "4       0.40      9.9        6  "
      ]
     },
     "execution_count": 2,
     "metadata": {},
     "output_type": "execute_result"
    }
   ],
   "source": [
    "df = pd.read_csv('/kaggle/input/wine-quality/winequalityN.csv')\n",
    "df.head()"
   ]
  },
  {
   "cell_type": "markdown",
   "id": "rising-sleeve",
   "metadata": {
    "papermill": {
     "duration": 0.026167,
     "end_time": "2021-05-01T14:42:49.449883",
     "exception": false,
     "start_time": "2021-05-01T14:42:49.423716",
     "status": "completed"
    },
    "tags": []
   },
   "source": [
    "# load dataset"
   ]
  },
  {
   "cell_type": "code",
   "execution_count": 3,
   "id": "raised-mentor",
   "metadata": {
    "execution": {
     "iopub.execute_input": "2021-05-01T14:42:49.512485Z",
     "iopub.status.busy": "2021-05-01T14:42:49.511813Z",
     "iopub.status.idle": "2021-05-01T14:42:49.558219Z",
     "shell.execute_reply": "2021-05-01T14:42:49.558762Z"
    },
    "papermill": {
     "duration": 0.081382,
     "end_time": "2021-05-01T14:42:49.558963",
     "exception": false,
     "start_time": "2021-05-01T14:42:49.477581",
     "status": "completed"
    },
    "tags": []
   },
   "outputs": [
    {
     "data": {
      "text/html": [
       "<div>\n",
       "<style scoped>\n",
       "    .dataframe tbody tr th:only-of-type {\n",
       "        vertical-align: middle;\n",
       "    }\n",
       "\n",
       "    .dataframe tbody tr th {\n",
       "        vertical-align: top;\n",
       "    }\n",
       "\n",
       "    .dataframe thead th {\n",
       "        text-align: right;\n",
       "    }\n",
       "</style>\n",
       "<table border=\"1\" class=\"dataframe\">\n",
       "  <thead>\n",
       "    <tr style=\"text-align: right;\">\n",
       "      <th></th>\n",
       "      <th>fixed acidity</th>\n",
       "      <th>volatile acidity</th>\n",
       "      <th>citric acid</th>\n",
       "      <th>residual sugar</th>\n",
       "      <th>chlorides</th>\n",
       "      <th>free sulfur dioxide</th>\n",
       "      <th>total sulfur dioxide</th>\n",
       "      <th>density</th>\n",
       "      <th>pH</th>\n",
       "      <th>sulphates</th>\n",
       "      <th>alcohol</th>\n",
       "      <th>quality</th>\n",
       "    </tr>\n",
       "  </thead>\n",
       "  <tbody>\n",
       "    <tr>\n",
       "      <th>count</th>\n",
       "      <td>6487.000000</td>\n",
       "      <td>6489.000000</td>\n",
       "      <td>6494.000000</td>\n",
       "      <td>6495.000000</td>\n",
       "      <td>6495.000000</td>\n",
       "      <td>6497.000000</td>\n",
       "      <td>6497.000000</td>\n",
       "      <td>6497.000000</td>\n",
       "      <td>6488.000000</td>\n",
       "      <td>6493.000000</td>\n",
       "      <td>6497.000000</td>\n",
       "      <td>6497.000000</td>\n",
       "    </tr>\n",
       "    <tr>\n",
       "      <th>mean</th>\n",
       "      <td>7.216579</td>\n",
       "      <td>0.339691</td>\n",
       "      <td>0.318722</td>\n",
       "      <td>5.444326</td>\n",
       "      <td>0.056042</td>\n",
       "      <td>30.525319</td>\n",
       "      <td>115.744574</td>\n",
       "      <td>0.994697</td>\n",
       "      <td>3.218395</td>\n",
       "      <td>0.531215</td>\n",
       "      <td>10.491801</td>\n",
       "      <td>5.818378</td>\n",
       "    </tr>\n",
       "    <tr>\n",
       "      <th>std</th>\n",
       "      <td>1.296750</td>\n",
       "      <td>0.164649</td>\n",
       "      <td>0.145265</td>\n",
       "      <td>4.758125</td>\n",
       "      <td>0.035036</td>\n",
       "      <td>17.749400</td>\n",
       "      <td>56.521855</td>\n",
       "      <td>0.002999</td>\n",
       "      <td>0.160748</td>\n",
       "      <td>0.148814</td>\n",
       "      <td>1.192712</td>\n",
       "      <td>0.873255</td>\n",
       "    </tr>\n",
       "    <tr>\n",
       "      <th>min</th>\n",
       "      <td>3.800000</td>\n",
       "      <td>0.080000</td>\n",
       "      <td>0.000000</td>\n",
       "      <td>0.600000</td>\n",
       "      <td>0.009000</td>\n",
       "      <td>1.000000</td>\n",
       "      <td>6.000000</td>\n",
       "      <td>0.987110</td>\n",
       "      <td>2.720000</td>\n",
       "      <td>0.220000</td>\n",
       "      <td>8.000000</td>\n",
       "      <td>3.000000</td>\n",
       "    </tr>\n",
       "    <tr>\n",
       "      <th>25%</th>\n",
       "      <td>6.400000</td>\n",
       "      <td>0.230000</td>\n",
       "      <td>0.250000</td>\n",
       "      <td>1.800000</td>\n",
       "      <td>0.038000</td>\n",
       "      <td>17.000000</td>\n",
       "      <td>77.000000</td>\n",
       "      <td>0.992340</td>\n",
       "      <td>3.110000</td>\n",
       "      <td>0.430000</td>\n",
       "      <td>9.500000</td>\n",
       "      <td>5.000000</td>\n",
       "    </tr>\n",
       "    <tr>\n",
       "      <th>50%</th>\n",
       "      <td>7.000000</td>\n",
       "      <td>0.290000</td>\n",
       "      <td>0.310000</td>\n",
       "      <td>3.000000</td>\n",
       "      <td>0.047000</td>\n",
       "      <td>29.000000</td>\n",
       "      <td>118.000000</td>\n",
       "      <td>0.994890</td>\n",
       "      <td>3.210000</td>\n",
       "      <td>0.510000</td>\n",
       "      <td>10.300000</td>\n",
       "      <td>6.000000</td>\n",
       "    </tr>\n",
       "    <tr>\n",
       "      <th>75%</th>\n",
       "      <td>7.700000</td>\n",
       "      <td>0.400000</td>\n",
       "      <td>0.390000</td>\n",
       "      <td>8.100000</td>\n",
       "      <td>0.065000</td>\n",
       "      <td>41.000000</td>\n",
       "      <td>156.000000</td>\n",
       "      <td>0.996990</td>\n",
       "      <td>3.320000</td>\n",
       "      <td>0.600000</td>\n",
       "      <td>11.300000</td>\n",
       "      <td>6.000000</td>\n",
       "    </tr>\n",
       "    <tr>\n",
       "      <th>max</th>\n",
       "      <td>15.900000</td>\n",
       "      <td>1.580000</td>\n",
       "      <td>1.660000</td>\n",
       "      <td>65.800000</td>\n",
       "      <td>0.611000</td>\n",
       "      <td>289.000000</td>\n",
       "      <td>440.000000</td>\n",
       "      <td>1.038980</td>\n",
       "      <td>4.010000</td>\n",
       "      <td>2.000000</td>\n",
       "      <td>14.900000</td>\n",
       "      <td>9.000000</td>\n",
       "    </tr>\n",
       "  </tbody>\n",
       "</table>\n",
       "</div>"
      ],
      "text/plain": [
       "       fixed acidity  volatile acidity  citric acid  residual sugar  \\\n",
       "count    6487.000000       6489.000000  6494.000000     6495.000000   \n",
       "mean        7.216579          0.339691     0.318722        5.444326   \n",
       "std         1.296750          0.164649     0.145265        4.758125   \n",
       "min         3.800000          0.080000     0.000000        0.600000   \n",
       "25%         6.400000          0.230000     0.250000        1.800000   \n",
       "50%         7.000000          0.290000     0.310000        3.000000   \n",
       "75%         7.700000          0.400000     0.390000        8.100000   \n",
       "max        15.900000          1.580000     1.660000       65.800000   \n",
       "\n",
       "         chlorides  free sulfur dioxide  total sulfur dioxide      density  \\\n",
       "count  6495.000000          6497.000000           6497.000000  6497.000000   \n",
       "mean      0.056042            30.525319            115.744574     0.994697   \n",
       "std       0.035036            17.749400             56.521855     0.002999   \n",
       "min       0.009000             1.000000              6.000000     0.987110   \n",
       "25%       0.038000            17.000000             77.000000     0.992340   \n",
       "50%       0.047000            29.000000            118.000000     0.994890   \n",
       "75%       0.065000            41.000000            156.000000     0.996990   \n",
       "max       0.611000           289.000000            440.000000     1.038980   \n",
       "\n",
       "                pH    sulphates      alcohol      quality  \n",
       "count  6488.000000  6493.000000  6497.000000  6497.000000  \n",
       "mean      3.218395     0.531215    10.491801     5.818378  \n",
       "std       0.160748     0.148814     1.192712     0.873255  \n",
       "min       2.720000     0.220000     8.000000     3.000000  \n",
       "25%       3.110000     0.430000     9.500000     5.000000  \n",
       "50%       3.210000     0.510000    10.300000     6.000000  \n",
       "75%       3.320000     0.600000    11.300000     6.000000  \n",
       "max       4.010000     2.000000    14.900000     9.000000  "
      ]
     },
     "execution_count": 3,
     "metadata": {},
     "output_type": "execute_result"
    }
   ],
   "source": [
    "df.describe()"
   ]
  },
  {
   "cell_type": "code",
   "execution_count": 4,
   "id": "superb-portuguese",
   "metadata": {
    "execution": {
     "iopub.execute_input": "2021-05-01T14:42:49.630455Z",
     "iopub.status.busy": "2021-05-01T14:42:49.619403Z",
     "iopub.status.idle": "2021-05-01T14:42:49.634364Z",
     "shell.execute_reply": "2021-05-01T14:42:49.633740Z"
    },
    "papermill": {
     "duration": 0.048363,
     "end_time": "2021-05-01T14:42:49.634496",
     "exception": false,
     "start_time": "2021-05-01T14:42:49.586133",
     "status": "completed"
    },
    "tags": []
   },
   "outputs": [
    {
     "name": "stdout",
     "output_type": "stream",
     "text": [
      "<class 'pandas.core.frame.DataFrame'>\n",
      "RangeIndex: 6497 entries, 0 to 6496\n",
      "Data columns (total 13 columns):\n",
      " #   Column                Non-Null Count  Dtype  \n",
      "---  ------                --------------  -----  \n",
      " 0   type                  6497 non-null   object \n",
      " 1   fixed acidity         6487 non-null   float64\n",
      " 2   volatile acidity      6489 non-null   float64\n",
      " 3   citric acid           6494 non-null   float64\n",
      " 4   residual sugar        6495 non-null   float64\n",
      " 5   chlorides             6495 non-null   float64\n",
      " 6   free sulfur dioxide   6497 non-null   float64\n",
      " 7   total sulfur dioxide  6497 non-null   float64\n",
      " 8   density               6497 non-null   float64\n",
      " 9   pH                    6488 non-null   float64\n",
      " 10  sulphates             6493 non-null   float64\n",
      " 11  alcohol               6497 non-null   float64\n",
      " 12  quality               6497 non-null   int64  \n",
      "dtypes: float64(11), int64(1), object(1)\n",
      "memory usage: 660.0+ KB\n"
     ]
    }
   ],
   "source": [
    "df.info()"
   ]
  },
  {
   "cell_type": "markdown",
   "id": "bound-snapshot",
   "metadata": {
    "papermill": {
     "duration": 0.026668,
     "end_time": "2021-05-01T14:42:49.688297",
     "exception": false,
     "start_time": "2021-05-01T14:42:49.661629",
     "status": "completed"
    },
    "tags": []
   },
   "source": [
    "# Preprocessing the dataset"
   ]
  },
  {
   "cell_type": "code",
   "execution_count": 5,
   "id": "downtown-forge",
   "metadata": {
    "execution": {
     "iopub.execute_input": "2021-05-01T14:42:49.750789Z",
     "iopub.status.busy": "2021-05-01T14:42:49.748153Z",
     "iopub.status.idle": "2021-05-01T14:42:49.755129Z",
     "shell.execute_reply": "2021-05-01T14:42:49.754479Z"
    },
    "papermill": {
     "duration": 0.039755,
     "end_time": "2021-05-01T14:42:49.755266",
     "exception": false,
     "start_time": "2021-05-01T14:42:49.715511",
     "status": "completed"
    },
    "tags": []
   },
   "outputs": [
    {
     "data": {
      "text/plain": [
       "type                     0\n",
       "fixed acidity           10\n",
       "volatile acidity         8\n",
       "citric acid              3\n",
       "residual sugar           2\n",
       "chlorides                2\n",
       "free sulfur dioxide      0\n",
       "total sulfur dioxide     0\n",
       "density                  0\n",
       "pH                       9\n",
       "sulphates                4\n",
       "alcohol                  0\n",
       "quality                  0\n",
       "dtype: int64"
      ]
     },
     "execution_count": 5,
     "metadata": {},
     "output_type": "execute_result"
    }
   ],
   "source": [
    "#check for null values\n",
    "df.isnull().sum()"
   ]
  },
  {
   "cell_type": "code",
   "execution_count": 6,
   "id": "naughty-factory",
   "metadata": {
    "execution": {
     "iopub.execute_input": "2021-05-01T14:42:49.819879Z",
     "iopub.status.busy": "2021-05-01T14:42:49.818724Z",
     "iopub.status.idle": "2021-05-01T14:42:49.826356Z",
     "shell.execute_reply": "2021-05-01T14:42:49.825702Z"
    },
    "papermill": {
     "duration": 0.042877,
     "end_time": "2021-05-01T14:42:49.826494",
     "exception": false,
     "start_time": "2021-05-01T14:42:49.783617",
     "status": "completed"
    },
    "tags": []
   },
   "outputs": [],
   "source": [
    "#fill the missing values\n",
    "for col, value in df.items():\n",
    "    if col != 'type':\n",
    "        df[col] = df[col].fillna(df[col].mean())"
   ]
  },
  {
   "cell_type": "code",
   "execution_count": 7,
   "id": "primary-speed",
   "metadata": {
    "execution": {
     "iopub.execute_input": "2021-05-01T14:42:49.890095Z",
     "iopub.status.busy": "2021-05-01T14:42:49.887187Z",
     "iopub.status.idle": "2021-05-01T14:42:49.893726Z",
     "shell.execute_reply": "2021-05-01T14:42:49.894195Z"
    },
    "papermill": {
     "duration": 0.040242,
     "end_time": "2021-05-01T14:42:49.894382",
     "exception": false,
     "start_time": "2021-05-01T14:42:49.854140",
     "status": "completed"
    },
    "tags": []
   },
   "outputs": [
    {
     "data": {
      "text/plain": [
       "type                    0\n",
       "fixed acidity           0\n",
       "volatile acidity        0\n",
       "citric acid             0\n",
       "residual sugar          0\n",
       "chlorides               0\n",
       "free sulfur dioxide     0\n",
       "total sulfur dioxide    0\n",
       "density                 0\n",
       "pH                      0\n",
       "sulphates               0\n",
       "alcohol                 0\n",
       "quality                 0\n",
       "dtype: int64"
      ]
     },
     "execution_count": 7,
     "metadata": {},
     "output_type": "execute_result"
    }
   ],
   "source": [
    "df.isnull().sum()"
   ]
  },
  {
   "cell_type": "markdown",
   "id": "comic-running",
   "metadata": {
    "papermill": {
     "duration": 0.0281,
     "end_time": "2021-05-01T14:42:49.950840",
     "exception": false,
     "start_time": "2021-05-01T14:42:49.922740",
     "status": "completed"
    },
    "tags": []
   },
   "source": [
    "# Exploratory analysis"
   ]
  },
  {
   "cell_type": "code",
   "execution_count": 8,
   "id": "other-extent",
   "metadata": {
    "execution": {
     "iopub.execute_input": "2021-05-01T14:42:50.011765Z",
     "iopub.status.busy": "2021-05-01T14:42:50.010844Z",
     "iopub.status.idle": "2021-05-01T14:42:51.545456Z",
     "shell.execute_reply": "2021-05-01T14:42:51.545931Z"
    },
    "papermill": {
     "duration": 1.566931,
     "end_time": "2021-05-01T14:42:51.546096",
     "exception": false,
     "start_time": "2021-05-01T14:42:49.979165",
     "status": "completed"
    },
    "tags": []
   },
   "outputs": [
    {
     "data": {
      "image/png": "[encoded data removed]",
      "text/plain": [
       "<Figure size 1440x720 with 12 Axes>"
      ]
     },
     "metadata": {
      "needs_background": "light"
     },
     "output_type": "display_data"
    }
   ],
   "source": [
    "#create boxplot\n",
    "fig,ax = plt.subplots(ncols=6, nrows = 2,figsize =(20,10))\n",
    "index=0\n",
    "ax = ax.flatten()\n",
    "\n",
    "for col,value in df.items():\n",
    "    if col!='type':\n",
    "        sns.boxplot(y=col,data=df,ax = ax[index])\n",
    "        index+=1\n",
    "plt.tight_layout(pad=0.5,w_pad=0.7,h_pad=5.0)\n",
    "        "
   ]
  },
  {
   "cell_type": "code",
   "execution_count": 9,
   "id": "automatic-patent",
   "metadata": {
    "execution": {
     "iopub.execute_input": "2021-05-01T14:42:51.631255Z",
     "iopub.status.busy": "2021-05-01T14:42:51.617365Z",
     "iopub.status.idle": "2021-05-01T14:42:57.212063Z",
     "shell.execute_reply": "2021-05-01T14:42:57.211005Z"
    },
    "papermill": {
     "duration": 5.635774,
     "end_time": "2021-05-01T14:42:57.212213",
     "exception": false,
     "start_time": "2021-05-01T14:42:51.576439",
     "status": "completed"
    },
    "tags": []
   },
   "outputs": [
    {
     "data": {
      "image/png": "[encoded data removed]",
      "text/plain": [
       "<Figure size 360x360 with 1 Axes>"
      ]
     },
     "metadata": {
      "needs_background": "light"
     },
     "output_type": "display_data"
    },
    {
     "data": {
      "image/png": "[encoded data removed]",
      "text/plain": [
       "<Figure size 360x360 with 1 Axes>"
      ]
     },
     "metadata": {
      "needs_background": "light"
     },
     "output_type": "display_data"
    },
    {
     "data": {
      "image/png": "[encoded data removed]",
      "text/plain": [
       "<Figure size 360x360 with 1 Axes>"
      ]
     },
     "metadata": {
      "needs_background": "light"
     },
     "output_type": "display_data"
    },
    {
     "data": {
      "image/png": "[encoded data removed]",
      "text/plain": [
       "<Figure size 360x360 with 1 Axes>"
      ]
     },
     "metadata": {
      "needs_background": "light"
     },
     "output_type": "display_data"
    },
    {
     "data": {
      "image/png": "[encoded data removed]",
      "text/plain": [
       "<Figure size 360x360 with 1 Axes>"
      ]
     },
     "metadata": {
      "needs_background": "light"
     },
     "output_type": "display_data"
    },
    {
     "data": {
      "image/png": "[encoded data removed]",
      "text/plain": [
       "<Figure size 360x360 with 1 Axes>"
      ]
     },
     "metadata": {
      "needs_background": "light"
     },
     "output_type": "display_data"
    },
    {
     "data": {
      "image/png": "[encoded data removed]",
      "text/plain": [
       "<Figure size 360x360 with 1 Axes>"
      ]
     },
     "metadata": {
      "needs_background": "light"
     },
     "output_type": "display_data"
    },
    {
     "data": {
      "image/png": "[encoded data removed]",
      "text/plain": [
       "<Figure size 360x360 with 1 Axes>"
      ]
     },
     "metadata": {
      "needs_background": "light"
     },
     "output_type": "display_data"
    },
    {
     "data": {
      "image/png": "[encoded data removed]",
      "text/plain": [
       "<Figure size 360x360 with 1 Axes>"
      ]
     },
     "metadata": {
      "needs_background": "light"
     },
     "output_type": "display_data"
    },
    {
     "data": {
      "image/png": "[encoded data removed]",
      "text/plain": [
       "<Figure size 360x360 with 1 Axes>"
      ]
     },
     "metadata": {
      "needs_background": "light"
     },
     "output_type": "display_data"
    },
    {
     "data": {
      "image/png": "[encoded data removed]",
      "text/plain": [
       "<Figure size 360x360 with 1 Axes>"
      ]
     },
     "metadata": {
      "needs_background": "light"
     },
     "output_type": "display_data"
    },
    {
     "data": {
      "image/png": "[encoded data removed]",
      "text/plain": [
       "<Figure size 360x360 with 1 Axes>"
      ]
     },
     "metadata": {
      "needs_background": "light"
     },
     "output_type": "display_data"
    }
   ],
   "source": [
    "#create displot\n",
    "#fig, ax = plt.subplots(ncols= 6,nrows =2, figsize= (20,10))\n",
    "index =0\n",
    "ax = ax.flatten()\n",
    "for col,value in df.items():\n",
    "    if col!= 'type':\n",
    "        sns.displot(value, ax = ax[index])\n",
    "        index+=1\n",
    "plt.tight_layout(pad=0.5,w_pad=0.7,h_pad=5.0)"
   ]
  },
  {
   "cell_type": "code",
   "execution_count": 10,
   "id": "covered-warrant",
   "metadata": {
    "execution": {
     "iopub.execute_input": "2021-05-01T14:42:57.294786Z",
     "iopub.status.busy": "2021-05-01T14:42:57.294157Z",
     "iopub.status.idle": "2021-05-01T14:42:57.298393Z",
     "shell.execute_reply": "2021-05-01T14:42:57.297902Z"
    },
    "papermill": {
     "duration": 0.04737,
     "end_time": "2021-05-01T14:42:57.298542",
     "exception": false,
     "start_time": "2021-05-01T14:42:57.251172",
     "status": "completed"
    },
    "tags": []
   },
   "outputs": [],
   "source": [
    "#log tranformation\n",
    "df['free sulfur dioxide_log']= np.log(df['free sulfur dioxide'])"
   ]
  },
  {
   "cell_type": "code",
   "execution_count": 11,
   "id": "suitable-peace",
   "metadata": {
    "execution": {
     "iopub.execute_input": "2021-05-01T14:42:57.549725Z",
     "iopub.status.busy": "2021-05-01T14:42:57.543196Z",
     "iopub.status.idle": "2021-05-01T14:42:57.889648Z",
     "shell.execute_reply": "2021-05-01T14:42:57.888993Z"
    },
    "papermill": {
     "duration": 0.552335,
     "end_time": "2021-05-01T14:42:57.889796",
     "exception": false,
     "start_time": "2021-05-01T14:42:57.337461",
     "status": "completed"
    },
    "tags": []
   },
   "outputs": [
    {
     "data": {
      "text/plain": [
       "<seaborn.axisgrid.FacetGrid at 0x7f411871a490>"
      ]
     },
     "execution_count": 11,
     "metadata": {},
     "output_type": "execute_result"
    },
    {
     "data": {
      "image/png": "[encoded data removed]",
      "text/plain": [
       "<Figure size 360x360 with 1 Axes>"
      ]
     },
     "metadata": {
      "needs_background": "light"
     },
     "output_type": "display_data"
    }
   ],
   "source": [
    "sns.displot(df['free sulfur dioxide_log'])"
   ]
  },
  {
   "cell_type": "code",
   "execution_count": 12,
   "id": "union-sacrifice",
   "metadata": {
    "execution": {
     "iopub.execute_input": "2021-05-01T14:42:57.976080Z",
     "iopub.status.busy": "2021-05-01T14:42:57.975410Z",
     "iopub.status.idle": "2021-05-01T14:42:58.299721Z",
     "shell.execute_reply": "2021-05-01T14:42:58.299078Z"
    },
    "papermill": {
     "duration": 0.369846,
     "end_time": "2021-05-01T14:42:58.299893",
     "exception": false,
     "start_time": "2021-05-01T14:42:57.930047",
     "status": "completed"
    },
    "tags": []
   },
   "outputs": [
    {
     "data": {
      "text/plain": [
       "<seaborn.axisgrid.FacetGrid at 0x7f41188a9dd0>"
      ]
     },
     "execution_count": 12,
     "metadata": {},
     "output_type": "execute_result"
    },
    {
     "data": {
      "image/png": "[encoded data removed]",
      "text/plain": [
       "<Figure size 360x360 with 1 Axes>"
      ]
     },
     "metadata": {
      "needs_background": "light"
     },
     "output_type": "display_data"
    }
   ],
   "source": [
    "df['alcohol_log']= np.log(df['alcohol'])\n",
    "sns.displot(df['alcohol_log'])"
   ]
  },
  {
   "cell_type": "code",
   "execution_count": 13,
   "id": "encouraging-trance",
   "metadata": {
    "execution": {
     "iopub.execute_input": "2021-05-01T14:42:58.387827Z",
     "iopub.status.busy": "2021-05-01T14:42:58.386560Z",
     "iopub.status.idle": "2021-05-01T14:42:58.745689Z",
     "shell.execute_reply": "2021-05-01T14:42:58.744994Z"
    },
    "papermill": {
     "duration": 0.404808,
     "end_time": "2021-05-01T14:42:58.745829",
     "exception": false,
     "start_time": "2021-05-01T14:42:58.341021",
     "status": "completed"
    },
    "tags": []
   },
   "outputs": [
    {
     "data": {
      "text/plain": [
       "<seaborn.axisgrid.FacetGrid at 0x7f411bc17ed0>"
      ]
     },
     "execution_count": 13,
     "metadata": {},
     "output_type": "execute_result"
    },
    {
     "data": {
      "image/png": "[encoded data removed]",
      "text/plain": [
       "<Figure size 360x360 with 1 Axes>"
      ]
     },
     "metadata": {
      "needs_background": "light"
     },
     "output_type": "display_data"
    }
   ],
   "source": [
    "df['total sulfur dioxide_log']= np.log(df['total sulfur dioxide'])\n",
    "sns.displot(df['total sulfur dioxide_log'])"
   ]
  },
  {
   "cell_type": "code",
   "execution_count": 14,
   "id": "tender-grove",
   "metadata": {
    "execution": {
     "iopub.execute_input": "2021-05-01T14:42:58.840187Z",
     "iopub.status.busy": "2021-05-01T14:42:58.839487Z",
     "iopub.status.idle": "2021-05-01T14:42:59.209000Z",
     "shell.execute_reply": "2021-05-01T14:42:59.209629Z"
    },
    "papermill": {
     "duration": 0.42024,
     "end_time": "2021-05-01T14:42:59.209808",
     "exception": false,
     "start_time": "2021-05-01T14:42:58.789568",
     "status": "completed"
    },
    "tags": []
   },
   "outputs": [
    {
     "data": {
      "text/plain": [
       "<seaborn.axisgrid.FacetGrid at 0x7f411bcfeb90>"
      ]
     },
     "execution_count": 14,
     "metadata": {},
     "output_type": "execute_result"
    },
    {
     "data": {
      "image/png": "[encoded data removed]",
      "text/plain": [
       "<Figure size 360x360 with 1 Axes>"
      ]
     },
     "metadata": {
      "needs_background": "light"
     },
     "output_type": "display_data"
    }
   ],
   "source": [
    "df['volatile acidity_log']= np.log(df['volatile acidity'])\n",
    "sns.displot(df['volatile acidity_log'])"
   ]
  },
  {
   "cell_type": "code",
   "execution_count": 15,
   "id": "automatic-practice",
   "metadata": {
    "execution": {
     "iopub.execute_input": "2021-05-01T14:42:59.308597Z",
     "iopub.status.busy": "2021-05-01T14:42:59.301492Z",
     "iopub.status.idle": "2021-05-01T14:42:59.621135Z",
     "shell.execute_reply": "2021-05-01T14:42:59.620526Z"
    },
    "papermill": {
     "duration": 0.367799,
     "end_time": "2021-05-01T14:42:59.621274",
     "exception": false,
     "start_time": "2021-05-01T14:42:59.253475",
     "status": "completed"
    },
    "tags": []
   },
   "outputs": [
    {
     "data": {
      "text/plain": [
       "<seaborn.axisgrid.FacetGrid at 0x7f411b59d0d0>"
      ]
     },
     "execution_count": 15,
     "metadata": {},
     "output_type": "execute_result"
    },
    {
     "data": {
      "image/png": "[encoded data removed]",
      "text/plain": [
       "<Figure size 360x360 with 1 Axes>"
      ]
     },
     "metadata": {
      "needs_background": "light"
     },
     "output_type": "display_data"
    }
   ],
   "source": [
    "df['residual sugar_log']= np.log(df['residual sugar'])\n",
    "sns.displot(df['residual sugar_log'])"
   ]
  },
  {
   "cell_type": "code",
   "execution_count": 16,
   "id": "hawaiian-coffee",
   "metadata": {
    "execution": {
     "iopub.execute_input": "2021-05-01T14:42:59.723891Z",
     "iopub.status.busy": "2021-05-01T14:42:59.720768Z",
     "iopub.status.idle": "2021-05-01T14:42:59.740180Z",
     "shell.execute_reply": "2021-05-01T14:42:59.739552Z"
    },
    "papermill": {
     "duration": 0.075184,
     "end_time": "2021-05-01T14:42:59.740316",
     "exception": false,
     "start_time": "2021-05-01T14:42:59.665132",
     "status": "completed"
    },
    "tags": []
   },
   "outputs": [
    {
     "data": {
      "text/html": [
       "<div>\n",
       "<style scoped>\n",
       "    .dataframe tbody tr th:only-of-type {\n",
       "        vertical-align: middle;\n",
       "    }\n",
       "\n",
       "    .dataframe tbody tr th {\n",
       "        vertical-align: top;\n",
       "    }\n",
       "\n",
       "    .dataframe thead th {\n",
       "        text-align: right;\n",
       "    }\n",
       "</style>\n",
       "<table border=\"1\" class=\"dataframe\">\n",
       "  <thead>\n",
       "    <tr style=\"text-align: right;\">\n",
       "      <th></th>\n",
       "      <th>type</th>\n",
       "      <th>fixed acidity</th>\n",
       "      <th>volatile acidity</th>\n",
       "      <th>citric acid</th>\n",
       "      <th>residual sugar</th>\n",
       "      <th>chlorides</th>\n",
       "      <th>free sulfur dioxide</th>\n",
       "      <th>total sulfur dioxide</th>\n",
       "      <th>density</th>\n",
       "      <th>pH</th>\n",
       "      <th>sulphates</th>\n",
       "      <th>alcohol</th>\n",
       "      <th>quality</th>\n",
       "      <th>free sulfur dioxide_log</th>\n",
       "      <th>alcohol_log</th>\n",
       "      <th>total sulfur dioxide_log</th>\n",
       "      <th>volatile acidity_log</th>\n",
       "      <th>residual sugar_log</th>\n",
       "    </tr>\n",
       "  </thead>\n",
       "  <tbody>\n",
       "    <tr>\n",
       "      <th>0</th>\n",
       "      <td>white</td>\n",
       "      <td>7.0</td>\n",
       "      <td>0.27</td>\n",
       "      <td>0.36</td>\n",
       "      <td>20.7</td>\n",
       "      <td>0.045</td>\n",
       "      <td>45.0</td>\n",
       "      <td>170.0</td>\n",
       "      <td>1.0010</td>\n",
       "      <td>3.00</td>\n",
       "      <td>0.45</td>\n",
       "      <td>8.8</td>\n",
       "      <td>6</td>\n",
       "      <td>3.806662</td>\n",
       "      <td>2.174752</td>\n",
       "      <td>5.135798</td>\n",
       "      <td>-1.309333</td>\n",
       "      <td>3.030134</td>\n",
       "    </tr>\n",
       "    <tr>\n",
       "      <th>1</th>\n",
       "      <td>white</td>\n",
       "      <td>6.3</td>\n",
       "      <td>0.30</td>\n",
       "      <td>0.34</td>\n",
       "      <td>1.6</td>\n",
       "      <td>0.049</td>\n",
       "      <td>14.0</td>\n",
       "      <td>132.0</td>\n",
       "      <td>0.9940</td>\n",
       "      <td>3.30</td>\n",
       "      <td>0.49</td>\n",
       "      <td>9.5</td>\n",
       "      <td>6</td>\n",
       "      <td>2.639057</td>\n",
       "      <td>2.251292</td>\n",
       "      <td>4.882802</td>\n",
       "      <td>-1.203973</td>\n",
       "      <td>0.470004</td>\n",
       "    </tr>\n",
       "    <tr>\n",
       "      <th>2</th>\n",
       "      <td>white</td>\n",
       "      <td>8.1</td>\n",
       "      <td>0.28</td>\n",
       "      <td>0.40</td>\n",
       "      <td>6.9</td>\n",
       "      <td>0.050</td>\n",
       "      <td>30.0</td>\n",
       "      <td>97.0</td>\n",
       "      <td>0.9951</td>\n",
       "      <td>3.26</td>\n",
       "      <td>0.44</td>\n",
       "      <td>10.1</td>\n",
       "      <td>6</td>\n",
       "      <td>3.401197</td>\n",
       "      <td>2.312535</td>\n",
       "      <td>4.574711</td>\n",
       "      <td>-1.272966</td>\n",
       "      <td>1.931521</td>\n",
       "    </tr>\n",
       "    <tr>\n",
       "      <th>3</th>\n",
       "      <td>white</td>\n",
       "      <td>7.2</td>\n",
       "      <td>0.23</td>\n",
       "      <td>0.32</td>\n",
       "      <td>8.5</td>\n",
       "      <td>0.058</td>\n",
       "      <td>47.0</td>\n",
       "      <td>186.0</td>\n",
       "      <td>0.9956</td>\n",
       "      <td>3.19</td>\n",
       "      <td>0.40</td>\n",
       "      <td>9.9</td>\n",
       "      <td>6</td>\n",
       "      <td>3.850148</td>\n",
       "      <td>2.292535</td>\n",
       "      <td>5.225747</td>\n",
       "      <td>-1.469676</td>\n",
       "      <td>2.140066</td>\n",
       "    </tr>\n",
       "    <tr>\n",
       "      <th>4</th>\n",
       "      <td>white</td>\n",
       "      <td>7.2</td>\n",
       "      <td>0.23</td>\n",
       "      <td>0.32</td>\n",
       "      <td>8.5</td>\n",
       "      <td>0.058</td>\n",
       "      <td>47.0</td>\n",
       "      <td>186.0</td>\n",
       "      <td>0.9956</td>\n",
       "      <td>3.19</td>\n",
       "      <td>0.40</td>\n",
       "      <td>9.9</td>\n",
       "      <td>6</td>\n",
       "      <td>3.850148</td>\n",
       "      <td>2.292535</td>\n",
       "      <td>5.225747</td>\n",
       "      <td>-1.469676</td>\n",
       "      <td>2.140066</td>\n",
       "    </tr>\n",
       "  </tbody>\n",
       "</table>\n",
       "</div>"
      ],
      "text/plain": [
       "    type  fixed acidity  volatile acidity  citric acid  residual sugar  \\\n",
       "0  white            7.0              0.27         0.36            20.7   \n",
       "1  white            6.3              0.30         0.34             1.6   \n",
       "2  white            8.1              0.28         0.40             6.9   \n",
       "3  white            7.2              0.23         0.32             8.5   \n",
       "4  white            7.2              0.23         0.32             8.5   \n",
       "\n",
       "   chlorides  free sulfur dioxide  total sulfur dioxide  density    pH  \\\n",
       "0      0.045                 45.0                 170.0   1.0010  3.00   \n",
       "1      0.049                 14.0                 132.0   0.9940  3.30   \n",
       "2      0.050                 30.0                  97.0   0.9951  3.26   \n",
       "3      0.058                 47.0                 186.0   0.9956  3.19   \n",
       "4      0.058                 47.0                 186.0   0.9956  3.19   \n",
       "\n",
       "   sulphates  alcohol  quality  free sulfur dioxide_log  alcohol_log  \\\n",
       "0       0.45      8.8        6                 3.806662     2.174752   \n",
       "1       0.49      9.5        6                 2.639057     2.251292   \n",
       "2       0.44     10.1        6                 3.401197     2.312535   \n",
       "3       0.40      9.9        6                 3.850148     2.292535   \n",
       "4       0.40      9.9        6                 3.850148     2.292535   \n",
       "\n",
       "   total sulfur dioxide_log  volatile acidity_log  residual sugar_log  \n",
       "0                  5.135798             -1.309333            3.030134  \n",
       "1                  4.882802             -1.203973            0.470004  \n",
       "2                  4.574711             -1.272966            1.931521  \n",
       "3                  5.225747             -1.469676            2.140066  \n",
       "4                  5.225747             -1.469676            2.140066  "
      ]
     },
     "execution_count": 16,
     "metadata": {},
     "output_type": "execute_result"
    }
   ],
   "source": [
    "df.head()"
   ]
  },
  {
   "cell_type": "code",
   "execution_count": 17,
   "id": "parental-salon",
   "metadata": {
    "execution": {
     "iopub.execute_input": "2021-05-01T14:42:59.838376Z",
     "iopub.status.busy": "2021-05-01T14:42:59.837365Z",
     "iopub.status.idle": "2021-05-01T14:42:59.859391Z",
     "shell.execute_reply": "2021-05-01T14:42:59.858744Z"
    },
    "papermill": {
     "duration": 0.073399,
     "end_time": "2021-05-01T14:42:59.859539",
     "exception": false,
     "start_time": "2021-05-01T14:42:59.786140",
     "status": "completed"
    },
    "tags": []
   },
   "outputs": [
    {
     "data": {
      "text/html": [
       "<div>\n",
       "<style scoped>\n",
       "    .dataframe tbody tr th:only-of-type {\n",
       "        vertical-align: middle;\n",
       "    }\n",
       "\n",
       "    .dataframe tbody tr th {\n",
       "        vertical-align: top;\n",
       "    }\n",
       "\n",
       "    .dataframe thead th {\n",
       "        text-align: right;\n",
       "    }\n",
       "</style>\n",
       "<table border=\"1\" class=\"dataframe\">\n",
       "  <thead>\n",
       "    <tr style=\"text-align: right;\">\n",
       "      <th></th>\n",
       "      <th>type</th>\n",
       "      <th>fixed acidity</th>\n",
       "      <th>citric acid</th>\n",
       "      <th>chlorides</th>\n",
       "      <th>density</th>\n",
       "      <th>pH</th>\n",
       "      <th>sulphates</th>\n",
       "      <th>quality</th>\n",
       "      <th>free sulfur dioxide_log</th>\n",
       "      <th>alcohol_log</th>\n",
       "      <th>total sulfur dioxide_log</th>\n",
       "      <th>volatile acidity_log</th>\n",
       "      <th>residual sugar_log</th>\n",
       "    </tr>\n",
       "  </thead>\n",
       "  <tbody>\n",
       "    <tr>\n",
       "      <th>0</th>\n",
       "      <td>white</td>\n",
       "      <td>7.0</td>\n",
       "      <td>0.36</td>\n",
       "      <td>0.045</td>\n",
       "      <td>1.0010</td>\n",
       "      <td>3.00</td>\n",
       "      <td>0.45</td>\n",
       "      <td>6</td>\n",
       "      <td>3.806662</td>\n",
       "      <td>2.174752</td>\n",
       "      <td>5.135798</td>\n",
       "      <td>-1.309333</td>\n",
       "      <td>3.030134</td>\n",
       "    </tr>\n",
       "    <tr>\n",
       "      <th>1</th>\n",
       "      <td>white</td>\n",
       "      <td>6.3</td>\n",
       "      <td>0.34</td>\n",
       "      <td>0.049</td>\n",
       "      <td>0.9940</td>\n",
       "      <td>3.30</td>\n",
       "      <td>0.49</td>\n",
       "      <td>6</td>\n",
       "      <td>2.639057</td>\n",
       "      <td>2.251292</td>\n",
       "      <td>4.882802</td>\n",
       "      <td>-1.203973</td>\n",
       "      <td>0.470004</td>\n",
       "    </tr>\n",
       "    <tr>\n",
       "      <th>2</th>\n",
       "      <td>white</td>\n",
       "      <td>8.1</td>\n",
       "      <td>0.40</td>\n",
       "      <td>0.050</td>\n",
       "      <td>0.9951</td>\n",
       "      <td>3.26</td>\n",
       "      <td>0.44</td>\n",
       "      <td>6</td>\n",
       "      <td>3.401197</td>\n",
       "      <td>2.312535</td>\n",
       "      <td>4.574711</td>\n",
       "      <td>-1.272966</td>\n",
       "      <td>1.931521</td>\n",
       "    </tr>\n",
       "    <tr>\n",
       "      <th>3</th>\n",
       "      <td>white</td>\n",
       "      <td>7.2</td>\n",
       "      <td>0.32</td>\n",
       "      <td>0.058</td>\n",
       "      <td>0.9956</td>\n",
       "      <td>3.19</td>\n",
       "      <td>0.40</td>\n",
       "      <td>6</td>\n",
       "      <td>3.850148</td>\n",
       "      <td>2.292535</td>\n",
       "      <td>5.225747</td>\n",
       "      <td>-1.469676</td>\n",
       "      <td>2.140066</td>\n",
       "    </tr>\n",
       "    <tr>\n",
       "      <th>4</th>\n",
       "      <td>white</td>\n",
       "      <td>7.2</td>\n",
       "      <td>0.32</td>\n",
       "      <td>0.058</td>\n",
       "      <td>0.9956</td>\n",
       "      <td>3.19</td>\n",
       "      <td>0.40</td>\n",
       "      <td>6</td>\n",
       "      <td>3.850148</td>\n",
       "      <td>2.292535</td>\n",
       "      <td>5.225747</td>\n",
       "      <td>-1.469676</td>\n",
       "      <td>2.140066</td>\n",
       "    </tr>\n",
       "  </tbody>\n",
       "</table>\n",
       "</div>"
      ],
      "text/plain": [
       "    type  fixed acidity  citric acid  chlorides  density    pH  sulphates  \\\n",
       "0  white            7.0         0.36      0.045   1.0010  3.00       0.45   \n",
       "1  white            6.3         0.34      0.049   0.9940  3.30       0.49   \n",
       "2  white            8.1         0.40      0.050   0.9951  3.26       0.44   \n",
       "3  white            7.2         0.32      0.058   0.9956  3.19       0.40   \n",
       "4  white            7.2         0.32      0.058   0.9956  3.19       0.40   \n",
       "\n",
       "   quality  free sulfur dioxide_log  alcohol_log  total sulfur dioxide_log  \\\n",
       "0        6                 3.806662     2.174752                  5.135798   \n",
       "1        6                 2.639057     2.251292                  4.882802   \n",
       "2        6                 3.401197     2.312535                  4.574711   \n",
       "3        6                 3.850148     2.292535                  5.225747   \n",
       "4        6                 3.850148     2.292535                  5.225747   \n",
       "\n",
       "   volatile acidity_log  residual sugar_log  \n",
       "0             -1.309333            3.030134  \n",
       "1             -1.203973            0.470004  \n",
       "2             -1.272966            1.931521  \n",
       "3             -1.469676            2.140066  \n",
       "4             -1.469676            2.140066  "
      ]
     },
     "execution_count": 17,
     "metadata": {},
     "output_type": "execute_result"
    }
   ],
   "source": [
    "col = ['residual sugar','alcohol','free sulfur dioxide','volatile acidity','total sulfur dioxide']\n",
    "df = df.drop(columns = col, axis =1)\n",
    "df.head()"
   ]
  },
  {
   "cell_type": "code",
   "execution_count": 18,
   "id": "precious-dimension",
   "metadata": {
    "execution": {
     "iopub.execute_input": "2021-05-01T14:42:59.965367Z",
     "iopub.status.busy": "2021-05-01T14:42:59.964682Z",
     "iopub.status.idle": "2021-05-01T14:43:00.073781Z",
     "shell.execute_reply": "2021-05-01T14:43:00.073243Z"
    },
    "papermill": {
     "duration": 0.167977,
     "end_time": "2021-05-01T14:43:00.073939",
     "exception": false,
     "start_time": "2021-05-01T14:42:59.905962",
     "status": "completed"
    },
    "tags": []
   },
   "outputs": [
    {
     "data": {
      "text/plain": [
       "<AxesSubplot:xlabel='type', ylabel='count'>"
      ]
     },
     "execution_count": 18,
     "metadata": {},
     "output_type": "execute_result"
    },
    {
     "data": {
      "image/png": "[encoded data removed]",
      "text/plain": [
       "<Figure size 432x288 with 1 Axes>"
      ]
     },
     "metadata": {
      "needs_background": "light"
     },
     "output_type": "display_data"
    }
   ],
   "source": [
    "sns.countplot(df['type'])"
   ]
  },
  {
   "cell_type": "code",
   "execution_count": 19,
   "id": "essential-senior",
   "metadata": {
    "execution": {
     "iopub.execute_input": "2021-05-01T14:43:00.173307Z",
     "iopub.status.busy": "2021-05-01T14:43:00.172611Z",
     "iopub.status.idle": "2021-05-01T14:43:00.317028Z",
     "shell.execute_reply": "2021-05-01T14:43:00.316370Z"
    },
    "papermill": {
     "duration": 0.196758,
     "end_time": "2021-05-01T14:43:00.317162",
     "exception": false,
     "start_time": "2021-05-01T14:43:00.120404",
     "status": "completed"
    },
    "tags": []
   },
   "outputs": [
    {
     "data": {
      "text/plain": [
       "<AxesSubplot:xlabel='quality', ylabel='count'>"
      ]
     },
     "execution_count": 19,
     "metadata": {},
     "output_type": "execute_result"
    },
    {
     "data": {
      "image/png": "[encoded data removed]",
      "text/plain": [
       "<Figure size 432x288 with 1 Axes>"
      ]
     },
     "metadata": {
      "needs_background": "light"
     },
     "output_type": "display_data"
    }
   ],
   "source": [
    "sns.countplot(df['quality'])"
   ]
  },
  {
   "cell_type": "markdown",
   "id": "overhead-barcelona",
   "metadata": {
    "papermill": {
     "duration": 0.047178,
     "end_time": "2021-05-01T14:43:00.411436",
     "exception": false,
     "start_time": "2021-05-01T14:43:00.364258",
     "status": "completed"
    },
    "tags": []
   },
   "source": [
    "# correlation matrix"
   ]
  },
  {
   "cell_type": "code",
   "execution_count": 20,
   "id": "nuclear-break",
   "metadata": {
    "execution": {
     "iopub.execute_input": "2021-05-01T14:43:00.511115Z",
     "iopub.status.busy": "2021-05-01T14:43:00.510282Z",
     "iopub.status.idle": "2021-05-01T14:43:00.534936Z",
     "shell.execute_reply": "2021-05-01T14:43:00.534338Z"
    },
    "papermill": {
     "duration": 0.07665,
     "end_time": "2021-05-01T14:43:00.535070",
     "exception": false,
     "start_time": "2021-05-01T14:43:00.458420",
     "status": "completed"
    },
    "tags": []
   },
   "outputs": [
    {
     "data": {
      "text/html": [
       "<div>\n",
       "<style scoped>\n",
       "    .dataframe tbody tr th:only-of-type {\n",
       "        vertical-align: middle;\n",
       "    }\n",
       "\n",
       "    .dataframe tbody tr th {\n",
       "        vertical-align: top;\n",
       "    }\n",
       "\n",
       "    .dataframe thead th {\n",
       "        text-align: right;\n",
       "    }\n",
       "</style>\n",
       "<table border=\"1\" class=\"dataframe\">\n",
       "  <thead>\n",
       "    <tr style=\"text-align: right;\">\n",
       "      <th></th>\n",
       "      <th>fixed acidity</th>\n",
       "      <th>citric acid</th>\n",
       "      <th>chlorides</th>\n",
       "      <th>density</th>\n",
       "      <th>pH</th>\n",
       "      <th>sulphates</th>\n",
       "      <th>quality</th>\n",
       "      <th>free sulfur dioxide_log</th>\n",
       "      <th>alcohol_log</th>\n",
       "      <th>total sulfur dioxide_log</th>\n",
       "      <th>volatile acidity_log</th>\n",
       "      <th>residual sugar_log</th>\n",
       "    </tr>\n",
       "  </thead>\n",
       "  <tbody>\n",
       "    <tr>\n",
       "      <th>fixed acidity</th>\n",
       "      <td>1.000000</td>\n",
       "      <td>0.323349</td>\n",
       "      <td>0.298282</td>\n",
       "      <td>0.458941</td>\n",
       "      <td>-0.251683</td>\n",
       "      <td>0.300225</td>\n",
       "      <td>-0.076967</td>\n",
       "      <td>-0.347356</td>\n",
       "      <td>-0.089117</td>\n",
       "      <td>-0.396965</td>\n",
       "      <td>0.225545</td>\n",
       "      <td>-0.092684</td>\n",
       "    </tr>\n",
       "    <tr>\n",
       "      <th>citric acid</th>\n",
       "      <td>0.323349</td>\n",
       "      <td>1.000000</td>\n",
       "      <td>0.039310</td>\n",
       "      <td>0.096307</td>\n",
       "      <td>-0.328354</td>\n",
       "      <td>0.057564</td>\n",
       "      <td>0.085699</td>\n",
       "      <td>0.115731</td>\n",
       "      <td>-0.013935</td>\n",
       "      <td>0.177095</td>\n",
       "      <td>-0.331500</td>\n",
       "      <td>0.125399</td>\n",
       "    </tr>\n",
       "    <tr>\n",
       "      <th>chlorides</th>\n",
       "      <td>0.298282</td>\n",
       "      <td>0.039310</td>\n",
       "      <td>1.000000</td>\n",
       "      <td>0.362580</td>\n",
       "      <td>0.044754</td>\n",
       "      <td>0.395073</td>\n",
       "      <td>-0.200818</td>\n",
       "      <td>-0.248489</td>\n",
       "      <td>-0.256320</td>\n",
       "      <td>-0.331824</td>\n",
       "      <td>0.365035</td>\n",
       "      <td>-0.117735</td>\n",
       "    </tr>\n",
       "    <tr>\n",
       "      <th>density</th>\n",
       "      <td>0.458941</td>\n",
       "      <td>0.096307</td>\n",
       "      <td>0.362580</td>\n",
       "      <td>1.000000</td>\n",
       "      <td>0.011913</td>\n",
       "      <td>0.259432</td>\n",
       "      <td>-0.305858</td>\n",
       "      <td>-0.053429</td>\n",
       "      <td>-0.688593</td>\n",
       "      <td>-0.106158</td>\n",
       "      <td>0.266683</td>\n",
       "      <td>0.510745</td>\n",
       "    </tr>\n",
       "    <tr>\n",
       "      <th>pH</th>\n",
       "      <td>-0.251683</td>\n",
       "      <td>-0.328354</td>\n",
       "      <td>0.044754</td>\n",
       "      <td>0.011913</td>\n",
       "      <td>1.000000</td>\n",
       "      <td>0.191075</td>\n",
       "      <td>0.019356</td>\n",
       "      <td>-0.145339</td>\n",
       "      <td>0.128471</td>\n",
       "      <td>-0.250508</td>\n",
       "      <td>0.218117</td>\n",
       "      <td>-0.245355</td>\n",
       "    </tr>\n",
       "    <tr>\n",
       "      <th>sulphates</th>\n",
       "      <td>0.300225</td>\n",
       "      <td>0.057564</td>\n",
       "      <td>0.395073</td>\n",
       "      <td>0.259432</td>\n",
       "      <td>0.191075</td>\n",
       "      <td>1.000000</td>\n",
       "      <td>0.038713</td>\n",
       "      <td>-0.224320</td>\n",
       "      <td>0.001134</td>\n",
       "      <td>-0.319554</td>\n",
       "      <td>0.227695</td>\n",
       "      <td>-0.171610</td>\n",
       "    </tr>\n",
       "    <tr>\n",
       "      <th>quality</th>\n",
       "      <td>-0.076967</td>\n",
       "      <td>0.085699</td>\n",
       "      <td>-0.200818</td>\n",
       "      <td>-0.305858</td>\n",
       "      <td>0.019356</td>\n",
       "      <td>0.038713</td>\n",
       "      <td>1.000000</td>\n",
       "      <td>0.113564</td>\n",
       "      <td>0.440520</td>\n",
       "      <td>0.009365</td>\n",
       "      <td>-0.262770</td>\n",
       "      <td>-0.012731</td>\n",
       "    </tr>\n",
       "    <tr>\n",
       "      <th>free sulfur dioxide_log</th>\n",
       "      <td>-0.347356</td>\n",
       "      <td>0.115731</td>\n",
       "      <td>-0.248489</td>\n",
       "      <td>-0.053429</td>\n",
       "      <td>-0.145339</td>\n",
       "      <td>-0.224320</td>\n",
       "      <td>0.113564</td>\n",
       "      <td>1.000000</td>\n",
       "      <td>-0.143089</td>\n",
       "      <td>0.783585</td>\n",
       "      <td>-0.380844</td>\n",
       "      <td>0.385916</td>\n",
       "    </tr>\n",
       "    <tr>\n",
       "      <th>alcohol_log</th>\n",
       "      <td>-0.089117</td>\n",
       "      <td>-0.013935</td>\n",
       "      <td>-0.256320</td>\n",
       "      <td>-0.688593</td>\n",
       "      <td>0.128471</td>\n",
       "      <td>0.001134</td>\n",
       "      <td>0.440520</td>\n",
       "      <td>-0.143089</td>\n",
       "      <td>1.000000</td>\n",
       "      <td>-0.187699</td>\n",
       "      <td>-0.024835</td>\n",
       "      <td>-0.322324</td>\n",
       "    </tr>\n",
       "    <tr>\n",
       "      <th>total sulfur dioxide_log</th>\n",
       "      <td>-0.396965</td>\n",
       "      <td>0.177095</td>\n",
       "      <td>-0.331824</td>\n",
       "      <td>-0.106158</td>\n",
       "      <td>-0.250508</td>\n",
       "      <td>-0.319554</td>\n",
       "      <td>0.009365</td>\n",
       "      <td>0.783585</td>\n",
       "      <td>-0.187699</td>\n",
       "      <td>1.000000</td>\n",
       "      <td>-0.437535</td>\n",
       "      <td>0.412601</td>\n",
       "    </tr>\n",
       "    <tr>\n",
       "      <th>volatile acidity_log</th>\n",
       "      <td>0.225545</td>\n",
       "      <td>-0.331500</td>\n",
       "      <td>0.365035</td>\n",
       "      <td>0.266683</td>\n",
       "      <td>0.218117</td>\n",
       "      <td>0.227695</td>\n",
       "      <td>-0.262770</td>\n",
       "      <td>-0.380844</td>\n",
       "      <td>-0.024835</td>\n",
       "      <td>-0.437535</td>\n",
       "      <td>1.000000</td>\n",
       "      <td>-0.121809</td>\n",
       "    </tr>\n",
       "    <tr>\n",
       "      <th>residual sugar_log</th>\n",
       "      <td>-0.092684</td>\n",
       "      <td>0.125399</td>\n",
       "      <td>-0.117735</td>\n",
       "      <td>0.510745</td>\n",
       "      <td>-0.245355</td>\n",
       "      <td>-0.171610</td>\n",
       "      <td>-0.012731</td>\n",
       "      <td>0.385916</td>\n",
       "      <td>-0.322324</td>\n",
       "      <td>0.412601</td>\n",
       "      <td>-0.121809</td>\n",
       "      <td>1.000000</td>\n",
       "    </tr>\n",
       "  </tbody>\n",
       "</table>\n",
       "</div>"
      ],
      "text/plain": [
       "                          fixed acidity  citric acid  chlorides   density  \\\n",
       "fixed acidity                  1.000000     0.323349   0.298282  0.458941   \n",
       "citric acid                    0.323349     1.000000   0.039310  0.096307   \n",
       "chlorides                      0.298282     0.039310   1.000000  0.362580   \n",
       "density                        0.458941     0.096307   0.362580  1.000000   \n",
       "pH                            -0.251683    -0.328354   0.044754  0.011913   \n",
       "sulphates                      0.300225     0.057564   0.395073  0.259432   \n",
       "quality                       -0.076967     0.085699  -0.200818 -0.305858   \n",
       "free sulfur dioxide_log       -0.347356     0.115731  -0.248489 -0.053429   \n",
       "alcohol_log                   -0.089117    -0.013935  -0.256320 -0.688593   \n",
       "total sulfur dioxide_log      -0.396965     0.177095  -0.331824 -0.106158   \n",
       "volatile acidity_log           0.225545    -0.331500   0.365035  0.266683   \n",
       "residual sugar_log            -0.092684     0.125399  -0.117735  0.510745   \n",
       "\n",
       "                                pH  sulphates   quality  \\\n",
       "fixed acidity            -0.251683   0.300225 -0.076967   \n",
       "citric acid              -0.328354   0.057564  0.085699   \n",
       "chlorides                 0.044754   0.395073 -0.200818   \n",
       "density                   0.011913   0.259432 -0.305858   \n",
       "pH                        1.000000   0.191075  0.019356   \n",
       "sulphates                 0.191075   1.000000  0.038713   \n",
       "quality                   0.019356   0.038713  1.000000   \n",
       "free sulfur dioxide_log  -0.145339  -0.224320  0.113564   \n",
       "alcohol_log               0.128471   0.001134  0.440520   \n",
       "total sulfur dioxide_log -0.250508  -0.319554  0.009365   \n",
       "volatile acidity_log      0.218117   0.227695 -0.262770   \n",
       "residual sugar_log       -0.245355  -0.171610 -0.012731   \n",
       "\n",
       "                          free sulfur dioxide_log  alcohol_log  \\\n",
       "fixed acidity                           -0.347356    -0.089117   \n",
       "citric acid                              0.115731    -0.013935   \n",
       "chlorides                               -0.248489    -0.256320   \n",
       "density                                 -0.053429    -0.688593   \n",
       "pH                                      -0.145339     0.128471   \n",
       "sulphates                               -0.224320     0.001134   \n",
       "quality                                  0.113564     0.440520   \n",
       "free sulfur dioxide_log                  1.000000    -0.143089   \n",
       "alcohol_log                             -0.143089     1.000000   \n",
       "total sulfur dioxide_log                 0.783585    -0.187699   \n",
       "volatile acidity_log                    -0.380844    -0.024835   \n",
       "residual sugar_log                       0.385916    -0.322324   \n",
       "\n",
       "                          total sulfur dioxide_log  volatile acidity_log  \\\n",
       "fixed acidity                            -0.396965              0.225545   \n",
       "citric acid                               0.177095             -0.331500   \n",
       "chlorides                                -0.331824              0.365035   \n",
       "density                                  -0.106158              0.266683   \n",
       "pH                                       -0.250508              0.218117   \n",
       "sulphates                                -0.319554              0.227695   \n",
       "quality                                   0.009365             -0.262770   \n",
       "free sulfur dioxide_log                   0.783585             -0.380844   \n",
       "alcohol_log                              -0.187699             -0.024835   \n",
       "total sulfur dioxide_log                  1.000000             -0.437535   \n",
       "volatile acidity_log                     -0.437535              1.000000   \n",
       "residual sugar_log                        0.412601             -0.121809   \n",
       "\n",
       "                          residual sugar_log  \n",
       "fixed acidity                      -0.092684  \n",
       "citric acid                         0.125399  \n",
       "chlorides                          -0.117735  \n",
       "density                             0.510745  \n",
       "pH                                 -0.245355  \n",
       "sulphates                          -0.171610  \n",
       "quality                            -0.012731  \n",
       "free sulfur dioxide_log             0.385916  \n",
       "alcohol_log                        -0.322324  \n",
       "total sulfur dioxide_log            0.412601  \n",
       "volatile acidity_log               -0.121809  \n",
       "residual sugar_log                  1.000000  "
      ]
     },
     "execution_count": 20,
     "metadata": {},
     "output_type": "execute_result"
    }
   ],
   "source": [
    "df.corr()"
   ]
  },
  {
   "cell_type": "code",
   "execution_count": 21,
   "id": "yellow-singing",
   "metadata": {
    "execution": {
     "iopub.execute_input": "2021-05-01T14:43:00.639704Z",
     "iopub.status.busy": "2021-05-01T14:43:00.638925Z",
     "iopub.status.idle": "2021-05-01T14:43:01.635349Z",
     "shell.execute_reply": "2021-05-01T14:43:01.635828Z"
    },
    "papermill": {
     "duration": 1.051859,
     "end_time": "2021-05-01T14:43:01.636015",
     "exception": false,
     "start_time": "2021-05-01T14:43:00.584156",
     "status": "completed"
    },
    "tags": []
   },
   "outputs": [
    {
     "data": {
      "text/plain": [
       "<AxesSubplot:>"
      ]
     },
     "execution_count": 21,
     "metadata": {},
     "output_type": "execute_result"
    },
    {
     "data": {
      "image/png": "[encoded data removed]",
      "text/plain": [
       "<Figure size 864x720 with 2 Axes>"
      ]
     },
     "metadata": {
      "needs_background": "light"
     },
     "output_type": "display_data"
    }
   ],
   "source": [
    "plt.figure(figsize = (12,10))\n",
    "sns.heatmap(df.corr(), annot = True)"
   ]
  },
  {
   "cell_type": "markdown",
   "id": "excited-adapter",
   "metadata": {
    "papermill": {
     "duration": 0.051943,
     "end_time": "2021-05-01T14:43:01.739730",
     "exception": false,
     "start_time": "2021-05-01T14:43:01.687787",
     "status": "completed"
    },
    "tags": []
   },
   "source": [
    "# input split"
   ]
  },
  {
   "cell_type": "code",
   "execution_count": 22,
   "id": "naked-movement",
   "metadata": {
    "execution": {
     "iopub.execute_input": "2021-05-01T14:43:01.859179Z",
     "iopub.status.busy": "2021-05-01T14:43:01.858375Z",
     "iopub.status.idle": "2021-05-01T14:43:01.863967Z",
     "shell.execute_reply": "2021-05-01T14:43:01.863131Z"
    },
    "papermill": {
     "duration": 0.071503,
     "end_time": "2021-05-01T14:43:01.864174",
     "exception": false,
     "start_time": "2021-05-01T14:43:01.792671",
     "status": "completed"
    },
    "tags": []
   },
   "outputs": [],
   "source": [
    "x = df.drop(columns = ['type','quality'])\n",
    "y = df['quality']\n"
   ]
  },
  {
   "cell_type": "markdown",
   "id": "distinct-improvement",
   "metadata": {
    "papermill": {
     "duration": 0.053318,
     "end_time": "2021-05-01T14:43:01.984985",
     "exception": false,
     "start_time": "2021-05-01T14:43:01.931667",
     "status": "completed"
    },
    "tags": []
   },
   "source": [
    "# Class Imbalancement"
   ]
  },
  {
   "cell_type": "code",
   "execution_count": 23,
   "id": "indian-excellence",
   "metadata": {
    "execution": {
     "iopub.execute_input": "2021-05-01T14:43:02.095470Z",
     "iopub.status.busy": "2021-05-01T14:43:02.094850Z",
     "iopub.status.idle": "2021-05-01T14:43:02.100019Z",
     "shell.execute_reply": "2021-05-01T14:43:02.100536Z"
    },
    "papermill": {
     "duration": 0.062163,
     "end_time": "2021-05-01T14:43:02.100682",
     "exception": false,
     "start_time": "2021-05-01T14:43:02.038519",
     "status": "completed"
    },
    "tags": []
   },
   "outputs": [
    {
     "data": {
      "text/plain": [
       "6    2836\n",
       "5    2138\n",
       "7    1079\n",
       "4     216\n",
       "8     193\n",
       "3      30\n",
       "9       5\n",
       "Name: quality, dtype: int64"
      ]
     },
     "execution_count": 23,
     "metadata": {},
     "output_type": "execute_result"
    }
   ],
   "source": [
    "y.value_counts()"
   ]
  },
  {
   "cell_type": "code",
   "execution_count": 24,
   "id": "political-excitement",
   "metadata": {
    "execution": {
     "iopub.execute_input": "2021-05-01T14:43:02.209131Z",
     "iopub.status.busy": "2021-05-01T14:43:02.208501Z",
     "iopub.status.idle": "2021-05-01T14:43:02.846013Z",
     "shell.execute_reply": "2021-05-01T14:43:02.845330Z"
    },
    "papermill": {
     "duration": 0.693091,
     "end_time": "2021-05-01T14:43:02.846153",
     "exception": false,
     "start_time": "2021-05-01T14:43:02.153062",
     "status": "completed"
    },
    "tags": []
   },
   "outputs": [],
   "source": [
    "from imblearn.over_sampling import SMOTE\n",
    "oversample = SMOTE(k_neighbors=4)\n",
    "# TRANSFORM THE DATASET\n",
    "x,y = oversample.fit_resample(x,y)"
   ]
  },
  {
   "cell_type": "code",
   "execution_count": 25,
   "id": "banned-semester",
   "metadata": {
    "execution": {
     "iopub.execute_input": "2021-05-01T14:43:02.957996Z",
     "iopub.status.busy": "2021-05-01T14:43:02.957449Z",
     "iopub.status.idle": "2021-05-01T14:43:02.963761Z",
     "shell.execute_reply": "2021-05-01T14:43:02.963302Z"
    },
    "papermill": {
     "duration": 0.064389,
     "end_time": "2021-05-01T14:43:02.963916",
     "exception": false,
     "start_time": "2021-05-01T14:43:02.899527",
     "status": "completed"
    },
    "tags": []
   },
   "outputs": [
    {
     "data": {
      "text/plain": [
       "3    2836\n",
       "4    2836\n",
       "5    2836\n",
       "6    2836\n",
       "7    2836\n",
       "8    2836\n",
       "9    2836\n",
       "Name: quality, dtype: int64"
      ]
     },
     "execution_count": 25,
     "metadata": {},
     "output_type": "execute_result"
    }
   ],
   "source": [
    "y.value_counts()"
   ]
  },
  {
   "cell_type": "markdown",
   "id": "framed-delaware",
   "metadata": {
    "papermill": {
     "duration": 0.053185,
     "end_time": "2021-05-01T14:43:03.069814",
     "exception": false,
     "start_time": "2021-05-01T14:43:03.016629",
     "status": "completed"
    },
    "tags": []
   },
   "source": [
    "# model training"
   ]
  },
  {
   "cell_type": "code",
   "execution_count": 26,
   "id": "specialized-belief",
   "metadata": {
    "execution": {
     "iopub.execute_input": "2021-05-01T14:43:03.181974Z",
     "iopub.status.busy": "2021-05-01T14:43:03.181128Z",
     "iopub.status.idle": "2021-05-01T14:43:03.183835Z",
     "shell.execute_reply": "2021-05-01T14:43:03.183331Z"
    },
    "papermill": {
     "duration": 0.061201,
     "end_time": "2021-05-01T14:43:03.183987",
     "exception": false,
     "start_time": "2021-05-01T14:43:03.122786",
     "status": "completed"
    },
    "tags": []
   },
   "outputs": [],
   "source": [
    "#classify function\n",
    "from sklearn.model_selection import cross_val_score, train_test_split\n",
    "def classify(model,x,y):\n",
    "    x_train,x_test,y_train,y_test = train_test_split(x,y,test_size=0.25,random_state=34)\n",
    "    #train model\n",
    "    model.fit(x_train,y_train)\n",
    "    print('Accuracy ', model.score(x_test,y_test)*100)\n",
    "    \n",
    "    #cross validation\n",
    "    score = cross_val_score(model,x,y,cv=5)\n",
    "    print('CV Score ', np.mean(score)*100)"
   ]
  },
  {
   "cell_type": "code",
   "execution_count": 27,
   "id": "curious-movie",
   "metadata": {
    "execution": {
     "iopub.execute_input": "2021-05-01T14:43:03.297530Z",
     "iopub.status.busy": "2021-05-01T14:43:03.296907Z",
     "iopub.status.idle": "2021-05-01T14:43:13.561716Z",
     "shell.execute_reply": "2021-05-01T14:43:13.562540Z"
    },
    "papermill": {
     "duration": 10.326023,
     "end_time": "2021-05-01T14:43:13.562831",
     "exception": false,
     "start_time": "2021-05-01T14:43:03.236808",
     "status": "completed"
    },
    "tags": []
   },
   "outputs": [
    {
     "name": "stdout",
     "output_type": "stream",
     "text": [
      "Accuracy  40.58029417690913\n",
      "CV Score  37.7945748997613\n"
     ]
    }
   ],
   "source": [
    "from sklearn.linear_model import LogisticRegression\n",
    "model = LogisticRegression()\n",
    "classify(model,x,y)"
   ]
  },
  {
   "cell_type": "code",
   "execution_count": 28,
   "id": "alike-approval",
   "metadata": {
    "execution": {
     "iopub.execute_input": "2021-05-01T14:43:13.728471Z",
     "iopub.status.busy": "2021-05-01T14:43:13.727535Z",
     "iopub.status.idle": "2021-05-01T14:43:15.339786Z",
     "shell.execute_reply": "2021-05-01T14:43:15.338920Z"
    },
    "papermill": {
     "duration": 1.680715,
     "end_time": "2021-05-01T14:43:15.339999",
     "exception": false,
     "start_time": "2021-05-01T14:43:13.659284",
     "status": "completed"
    },
    "tags": []
   },
   "outputs": [
    {
     "name": "stdout",
     "output_type": "stream",
     "text": [
      "Accuracy  81.20088656054806\n",
      "CV Score  76.37523049666758\n"
     ]
    }
   ],
   "source": [
    "from sklearn.tree import DecisionTreeClassifier\n",
    "model = DecisionTreeClassifier()\n",
    "classify(model,x,y)"
   ]
  },
  {
   "cell_type": "code",
   "execution_count": 29,
   "id": "several-accountability",
   "metadata": {
    "execution": {
     "iopub.execute_input": "2021-05-01T14:43:15.458179Z",
     "iopub.status.busy": "2021-05-01T14:43:15.457542Z",
     "iopub.status.idle": "2021-05-01T14:43:42.909279Z",
     "shell.execute_reply": "2021-05-01T14:43:42.909961Z"
    },
    "papermill": {
     "duration": 27.513909,
     "end_time": "2021-05-01T14:43:42.910207",
     "exception": false,
     "start_time": "2021-05-01T14:43:15.396298",
     "status": "completed"
    },
    "tags": []
   },
   "outputs": [
    {
     "name": "stdout",
     "output_type": "stream",
     "text": [
      "Accuracy  89.17993149304856\n",
      "CV Score  83.64906656382199\n"
     ]
    }
   ],
   "source": [
    "from sklearn.ensemble import RandomForestClassifier\n",
    "model = RandomForestClassifier()\n",
    "classify(model,x,y)"
   ]
  },
  {
   "cell_type": "code",
   "execution_count": 30,
   "id": "external-publisher",
   "metadata": {
    "execution": {
     "iopub.execute_input": "2021-05-01T14:43:43.032960Z",
     "iopub.status.busy": "2021-05-01T14:43:43.032227Z",
     "iopub.status.idle": "2021-05-01T14:43:52.005145Z",
     "shell.execute_reply": "2021-05-01T14:43:52.005599Z"
    },
    "papermill": {
     "duration": 9.036966,
     "end_time": "2021-05-01T14:43:52.005774",
     "exception": false,
     "start_time": "2021-05-01T14:43:42.968808",
     "status": "completed"
    },
    "tags": []
   },
   "outputs": [
    {
     "name": "stdout",
     "output_type": "stream",
     "text": [
      "Accuracy  89.94559742091477\n",
      "CV Score  84.9285201844354\n"
     ]
    }
   ],
   "source": [
    "from sklearn.ensemble import ExtraTreesClassifier\n",
    "model = ExtraTreesClassifier()\n",
    "classify(model,x,y)"
   ]
  },
  {
   "cell_type": "code",
   "execution_count": 31,
   "id": "descending-nowhere",
   "metadata": {
    "execution": {
     "iopub.execute_input": "2021-05-01T14:43:52.126740Z",
     "iopub.status.busy": "2021-05-01T14:43:52.125968Z",
     "iopub.status.idle": "2021-05-01T14:44:54.870273Z",
     "shell.execute_reply": "2021-05-01T14:44:54.870775Z"
    },
    "papermill": {
     "duration": 62.808473,
     "end_time": "2021-05-01T14:44:54.870961",
     "exception": false,
     "start_time": "2021-05-01T14:43:52.062488",
     "status": "completed"
    },
    "tags": []
   },
   "outputs": [
    {
     "name": "stdout",
     "output_type": "stream",
     "text": [
      "[14:43:52] WARNING: ../src/learner.cc:1061: Starting in XGBoost 1.3.0, the default evaluation metric used with the objective 'multi:softprob' was changed from 'merror' to 'mlogloss'. Explicitly set eval_metric if you'd like to restore the old behavior.\n",
      "Accuracy  88.15232722143864\n",
      "[14:44:03] WARNING: ../src/learner.cc:1061: Starting in XGBoost 1.3.0, the default evaluation metric used with the objective 'multi:softprob' was changed from 'merror' to 'mlogloss'. Explicitly set eval_metric if you'd like to restore the old behavior.\n",
      "[14:44:14] WARNING: ../src/learner.cc:1061: Starting in XGBoost 1.3.0, the default evaluation metric used with the objective 'multi:softprob' was changed from 'merror' to 'mlogloss'. Explicitly set eval_metric if you'd like to restore the old behavior.\n",
      "[14:44:24] WARNING: ../src/learner.cc:1061: Starting in XGBoost 1.3.0, the default evaluation metric used with the objective 'multi:softprob' was changed from 'merror' to 'mlogloss'. Explicitly set eval_metric if you'd like to restore the old behavior.\n",
      "[14:44:35] WARNING: ../src/learner.cc:1061: Starting in XGBoost 1.3.0, the default evaluation metric used with the objective 'multi:softprob' was changed from 'merror' to 'mlogloss'. Explicitly set eval_metric if you'd like to restore the old behavior.\n",
      "[14:44:45] WARNING: ../src/learner.cc:1061: Starting in XGBoost 1.3.0, the default evaluation metric used with the objective 'multi:softprob' was changed from 'merror' to 'mlogloss'. Explicitly set eval_metric if you'd like to restore the old behavior.\n",
      "CV Score  81.85594172359174\n"
     ]
    }
   ],
   "source": [
    "from xgboost import XGBClassifier\n",
    "model = XGBClassifier()\n",
    "classify(model,x,y)"
   ]
  },
  {
   "cell_type": "code",
   "execution_count": 32,
   "id": "formal-opinion",
   "metadata": {
    "execution": {
     "iopub.execute_input": "2021-05-01T14:44:54.986382Z",
     "iopub.status.busy": "2021-05-01T14:44:54.985708Z",
     "iopub.status.idle": "2021-05-01T14:45:03.746484Z",
     "shell.execute_reply": "2021-05-01T14:45:03.747302Z"
    },
    "papermill": {
     "duration": 8.819842,
     "end_time": "2021-05-01T14:45:03.747476",
     "exception": false,
     "start_time": "2021-05-01T14:44:54.927634",
     "status": "completed"
    },
    "tags": []
   },
   "outputs": [
    {
     "data": {
      "text/html": [
       "<style type='text/css'>\n",
       ".datatable table.frame { margin-bottom: 0; }\n",
       ".datatable table.frame thead { border-bottom: none; }\n",
       ".datatable table.frame tr.coltypes td {  color: #FFFFFF;  line-height: 6px;  padding: 0 0.5em;}\n",
       ".datatable .bool    { background: #DDDD99; }\n",
       ".datatable .object  { background: #565656; }\n",
       ".datatable .int     { background: #5D9E5D; }\n",
       ".datatable .float   { background: #4040CC; }\n",
       ".datatable .str     { background: #CC4040; }\n",
       ".datatable .row_index {  background: var(--jp-border-color3);  border-right: 1px solid var(--jp-border-color0);  color: var(--jp-ui-font-color3);  font-size: 9px;}\n",
       ".datatable .frame tr.coltypes .row_index {  background: var(--jp-border-color0);}\n",
       ".datatable th:nth-child(2) { padding-left: 12px; }\n",
       ".datatable .hellipsis {  color: var(--jp-cell-editor-border-color);}\n",
       ".datatable .vellipsis {  background: var(--jp-layout-color0);  color: var(--jp-cell-editor-border-color);}\n",
       ".datatable .na {  color: var(--jp-cell-editor-border-color);  font-size: 80%;}\n",
       ".datatable .footer { font-size: 9px; }\n",
       ".datatable .frame_dimensions {  background: var(--jp-border-color3);  border-top: 1px solid var(--jp-border-color0);  color: var(--jp-ui-font-color3);  display: inline-block;  opacity: 0.6;  padding: 1px 10px 1px 5px;}\n",
       "</style>\n"
      ],
      "text/plain": [
       "<IPython.core.display.HTML object>"
      ]
     },
     "metadata": {},
     "output_type": "display_data"
    },
    {
     "name": "stdout",
     "output_type": "stream",
     "text": [
      "Accuracy  87.54785412049164\n",
      "CV Score  81.43284403867585\n"
     ]
    }
   ],
   "source": [
    "import lightgbm\n",
    "model = lightgbm.LGBMClassifier()\n",
    "classify(model,x,y)\n"
   ]
  },
  {
   "cell_type": "code",
   "execution_count": null,
   "id": "romance-writing",
   "metadata": {
    "papermill": {
     "duration": 0.055667,
     "end_time": "2021-05-01T14:45:03.860568",
     "exception": false,
     "start_time": "2021-05-01T14:45:03.804901",
     "status": "completed"
    },
    "tags": []
   },
   "outputs": [],
   "source": []
  }
 ],
 "metadata": {
  "kernelspec": {
   "display_name": "Python 3",
   "language": "python",
   "name": "python3"
  },
  "language_info": {
   "codemirror_mode": {
    "name": "ipython",
    "version": 3
   },
   "file_extension": ".py",
   "mimetype": "text/x-python",
   "name": "python",
   "nbconvert_exporter": "python",
   "pygments_lexer": "ipython3",
   "version": "3.7.9"
  },
  "papermill": {
   "default_parameters": {},
   "duration": 142.81778,
   "end_time": "2021-05-01T14:45:04.727039",
   "environment_variables": {},
   "exception": null,
   "input_path": "__notebook__.ipynb",
   "output_path": "__notebook__.ipynb",
   "parameters": {},
   "start_time": "2021-05-01T14:42:41.909259",
   "version": "2.3.2"
  }
 },
 "nbformat": 4,
 "nbformat_minor": 5
}
